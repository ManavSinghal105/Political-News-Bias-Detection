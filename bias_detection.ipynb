{
  "nbformat": 4,
  "nbformat_minor": 0,
  "metadata": {
    "colab": {
      "provenance": [],
      "gpuType": "T4"
    },
    "kernelspec": {
      "name": "python3",
      "display_name": "Python 3"
    },
    "language_info": {
      "name": "python"
    },
    "accelerator": "GPU"
  },
  "cells": [
    {
      "cell_type": "code",
      "execution_count": 1,
      "metadata": {
        "colab": {
          "base_uri": "https://localhost:8080/",
          "height": 160
        },
        "id": "x1P8Bqe-JSCY",
        "outputId": "56d65a67-294c-4cb4-9efd-477454ef0ad6"
      },
      "outputs": [
        {
          "output_type": "display_data",
          "data": {
            "text/plain": [
              "<IPython.core.display.HTML object>"
            ],
            "text/html": [
              "\n",
              "     <input type=\"file\" id=\"files-84ad2a6e-8065-4e3b-8f9e-fb416464e813\" name=\"files[]\" multiple disabled\n",
              "        style=\"border:none\" />\n",
              "     <output id=\"result-84ad2a6e-8065-4e3b-8f9e-fb416464e813\">\n",
              "      Upload widget is only available when the cell has been executed in the\n",
              "      current browser session. Please rerun this cell to enable.\n",
              "      </output>\n",
              "      <script>// Copyright 2017 Google LLC\n",
              "//\n",
              "// Licensed under the Apache License, Version 2.0 (the \"License\");\n",
              "// you may not use this file except in compliance with the License.\n",
              "// You may obtain a copy of the License at\n",
              "//\n",
              "//      http://www.apache.org/licenses/LICENSE-2.0\n",
              "//\n",
              "// Unless required by applicable law or agreed to in writing, software\n",
              "// distributed under the License is distributed on an \"AS IS\" BASIS,\n",
              "// WITHOUT WARRANTIES OR CONDITIONS OF ANY KIND, either express or implied.\n",
              "// See the License for the specific language governing permissions and\n",
              "// limitations under the License.\n",
              "\n",
              "/**\n",
              " * @fileoverview Helpers for google.colab Python module.\n",
              " */\n",
              "(function(scope) {\n",
              "function span(text, styleAttributes = {}) {\n",
              "  const element = document.createElement('span');\n",
              "  element.textContent = text;\n",
              "  for (const key of Object.keys(styleAttributes)) {\n",
              "    element.style[key] = styleAttributes[key];\n",
              "  }\n",
              "  return element;\n",
              "}\n",
              "\n",
              "// Max number of bytes which will be uploaded at a time.\n",
              "const MAX_PAYLOAD_SIZE = 100 * 1024;\n",
              "\n",
              "function _uploadFiles(inputId, outputId) {\n",
              "  const steps = uploadFilesStep(inputId, outputId);\n",
              "  const outputElement = document.getElementById(outputId);\n",
              "  // Cache steps on the outputElement to make it available for the next call\n",
              "  // to uploadFilesContinue from Python.\n",
              "  outputElement.steps = steps;\n",
              "\n",
              "  return _uploadFilesContinue(outputId);\n",
              "}\n",
              "\n",
              "// This is roughly an async generator (not supported in the browser yet),\n",
              "// where there are multiple asynchronous steps and the Python side is going\n",
              "// to poll for completion of each step.\n",
              "// This uses a Promise to block the python side on completion of each step,\n",
              "// then passes the result of the previous step as the input to the next step.\n",
              "function _uploadFilesContinue(outputId) {\n",
              "  const outputElement = document.getElementById(outputId);\n",
              "  const steps = outputElement.steps;\n",
              "\n",
              "  const next = steps.next(outputElement.lastPromiseValue);\n",
              "  return Promise.resolve(next.value.promise).then((value) => {\n",
              "    // Cache the last promise value to make it available to the next\n",
              "    // step of the generator.\n",
              "    outputElement.lastPromiseValue = value;\n",
              "    return next.value.response;\n",
              "  });\n",
              "}\n",
              "\n",
              "/**\n",
              " * Generator function which is called between each async step of the upload\n",
              " * process.\n",
              " * @param {string} inputId Element ID of the input file picker element.\n",
              " * @param {string} outputId Element ID of the output display.\n",
              " * @return {!Iterable<!Object>} Iterable of next steps.\n",
              " */\n",
              "function* uploadFilesStep(inputId, outputId) {\n",
              "  const inputElement = document.getElementById(inputId);\n",
              "  inputElement.disabled = false;\n",
              "\n",
              "  const outputElement = document.getElementById(outputId);\n",
              "  outputElement.innerHTML = '';\n",
              "\n",
              "  const pickedPromise = new Promise((resolve) => {\n",
              "    inputElement.addEventListener('change', (e) => {\n",
              "      resolve(e.target.files);\n",
              "    });\n",
              "  });\n",
              "\n",
              "  const cancel = document.createElement('button');\n",
              "  inputElement.parentElement.appendChild(cancel);\n",
              "  cancel.textContent = 'Cancel upload';\n",
              "  const cancelPromise = new Promise((resolve) => {\n",
              "    cancel.onclick = () => {\n",
              "      resolve(null);\n",
              "    };\n",
              "  });\n",
              "\n",
              "  // Wait for the user to pick the files.\n",
              "  const files = yield {\n",
              "    promise: Promise.race([pickedPromise, cancelPromise]),\n",
              "    response: {\n",
              "      action: 'starting',\n",
              "    }\n",
              "  };\n",
              "\n",
              "  cancel.remove();\n",
              "\n",
              "  // Disable the input element since further picks are not allowed.\n",
              "  inputElement.disabled = true;\n",
              "\n",
              "  if (!files) {\n",
              "    return {\n",
              "      response: {\n",
              "        action: 'complete',\n",
              "      }\n",
              "    };\n",
              "  }\n",
              "\n",
              "  for (const file of files) {\n",
              "    const li = document.createElement('li');\n",
              "    li.append(span(file.name, {fontWeight: 'bold'}));\n",
              "    li.append(span(\n",
              "        `(${file.type || 'n/a'}) - ${file.size} bytes, ` +\n",
              "        `last modified: ${\n",
              "            file.lastModifiedDate ? file.lastModifiedDate.toLocaleDateString() :\n",
              "                                    'n/a'} - `));\n",
              "    const percent = span('0% done');\n",
              "    li.appendChild(percent);\n",
              "\n",
              "    outputElement.appendChild(li);\n",
              "\n",
              "    const fileDataPromise = new Promise((resolve) => {\n",
              "      const reader = new FileReader();\n",
              "      reader.onload = (e) => {\n",
              "        resolve(e.target.result);\n",
              "      };\n",
              "      reader.readAsArrayBuffer(file);\n",
              "    });\n",
              "    // Wait for the data to be ready.\n",
              "    let fileData = yield {\n",
              "      promise: fileDataPromise,\n",
              "      response: {\n",
              "        action: 'continue',\n",
              "      }\n",
              "    };\n",
              "\n",
              "    // Use a chunked sending to avoid message size limits. See b/62115660.\n",
              "    let position = 0;\n",
              "    do {\n",
              "      const length = Math.min(fileData.byteLength - position, MAX_PAYLOAD_SIZE);\n",
              "      const chunk = new Uint8Array(fileData, position, length);\n",
              "      position += length;\n",
              "\n",
              "      const base64 = btoa(String.fromCharCode.apply(null, chunk));\n",
              "      yield {\n",
              "        response: {\n",
              "          action: 'append',\n",
              "          file: file.name,\n",
              "          data: base64,\n",
              "        },\n",
              "      };\n",
              "\n",
              "      let percentDone = fileData.byteLength === 0 ?\n",
              "          100 :\n",
              "          Math.round((position / fileData.byteLength) * 100);\n",
              "      percent.textContent = `${percentDone}% done`;\n",
              "\n",
              "    } while (position < fileData.byteLength);\n",
              "  }\n",
              "\n",
              "  // All done.\n",
              "  yield {\n",
              "    response: {\n",
              "      action: 'complete',\n",
              "    }\n",
              "  };\n",
              "}\n",
              "\n",
              "scope.google = scope.google || {};\n",
              "scope.google.colab = scope.google.colab || {};\n",
              "scope.google.colab._files = {\n",
              "  _uploadFiles,\n",
              "  _uploadFilesContinue,\n",
              "};\n",
              "})(self);\n",
              "</script> "
            ]
          },
          "metadata": {}
        },
        {
          "output_type": "stream",
          "name": "stdout",
          "text": [
            "Saving kaggle.json to kaggle.json\n",
            "Dataset URL: https://www.kaggle.com/datasets/surajkarakulath/labelled-corpus-political-bias-hugging-face\n",
            "License(s): other\n",
            "Downloading labelled-corpus-political-bias-hugging-face.zip to /content\n",
            "  0% 0.00/47.8M [00:00<?, ?B/s]\n",
            "100% 47.8M/47.8M [00:00<00:00, 1.35GB/s]\n"
          ]
        }
      ],
      "source": [
        "!pip install -q kaggle\n",
        "\n",
        "# Upload your kaggle.json file here\n",
        "from google.colab import files\n",
        "files.upload()  # Upload kaggle.json\n",
        "\n",
        "# Move kaggle.json to ~/.kaggle and set permissions\n",
        "!mkdir -p ~/.kaggle\n",
        "!cp kaggle.json ~/.kaggle/\n",
        "!chmod 600 ~/.kaggle/kaggle.json\n",
        "\n",
        "# Download the dataset\n",
        "!kaggle datasets download -d surajkarakulath/labelled-corpus-political-bias-hugging-face\n",
        "!unzip -q labelled-corpus-political-bias-hugging-face.zip\n"
      ]
    },
    {
      "cell_type": "code",
      "source": [
        "!du -sh *\n"
      ],
      "metadata": {
        "colab": {
          "base_uri": "https://localhost:8080/"
        },
        "id": "9jzXFkd-KCyx",
        "outputId": "50c9dac6-3f46-4df4-bad7-37e0c8d661c6"
      },
      "execution_count": 2,
      "outputs": [
        {
          "output_type": "stream",
          "name": "stdout",
          "text": [
            "30M\tCenter Data\n",
            "4.0K\tkaggle.json\n",
            "48M\tlabelled-corpus-political-bias-hugging-face.zip\n",
            "73M\tLeft Data\n",
            "36M\tRight Data\n",
            "55M\tsample_data\n"
          ]
        }
      ]
    },
    {
      "cell_type": "code",
      "source": [
        "!pip install -q transformers datasets scikit-learn pandas tqdm\n"
      ],
      "metadata": {
        "id": "Cx9wtyLgKgse"
      },
      "execution_count": 3,
      "outputs": []
    },
    {
      "cell_type": "code",
      "source": [
        "!pip install numpy==1.26.4"
      ],
      "metadata": {
        "colab": {
          "base_uri": "https://localhost:8080/",
          "height": 377
        },
        "id": "Sa9hs8fhKy1a",
        "outputId": "7c5aff44-f9b3-4d37-abe4-1022842b4501"
      },
      "execution_count": 4,
      "outputs": [
        {
          "output_type": "stream",
          "name": "stdout",
          "text": [
            "Collecting numpy==1.26.4\n",
            "  Downloading numpy-1.26.4-cp311-cp311-manylinux_2_17_x86_64.manylinux2014_x86_64.whl.metadata (61 kB)\n",
            "\u001b[?25l     \u001b[90m\u2501\u2501\u2501\u2501\u2501\u2501\u2501\u2501\u2501\u2501\u2501\u2501\u2501\u2501\u2501\u2501\u2501\u2501\u2501\u2501\u2501\u2501\u2501\u2501\u2501\u2501\u2501\u2501\u2501\u2501\u2501\u2501\u2501\u2501\u2501\u2501\u2501\u2501\u2501\u2501\u001b[0m \u001b[32m0.0/61.0 kB\u001b[0m \u001b[31m?\u001b[0m eta \u001b[36m-:--:--\u001b[0m\r\u001b[2K     \u001b[90m\u2501\u2501\u2501\u2501\u2501\u2501\u2501\u2501\u2501\u2501\u2501\u2501\u2501\u2501\u2501\u2501\u2501\u2501\u2501\u2501\u2501\u2501\u2501\u2501\u2501\u2501\u2501\u2501\u2501\u2501\u2501\u2501\u2501\u2501\u2501\u2501\u2501\u2501\u2501\u2501\u001b[0m \u001b[32m61.0/61.0 kB\u001b[0m \u001b[31m3.7 MB/s\u001b[0m eta \u001b[36m0:00:00\u001b[0m\n",
            "\u001b[?25hDownloading numpy-1.26.4-cp311-cp311-manylinux_2_17_x86_64.manylinux2014_x86_64.whl (18.3 MB)\n",
            "\u001b[2K   \u001b[90m\u2501\u2501\u2501\u2501\u2501\u2501\u2501\u2501\u2501\u2501\u2501\u2501\u2501\u2501\u2501\u2501\u2501\u2501\u2501\u2501\u2501\u2501\u2501\u2501\u2501\u2501\u2501\u2501\u2501\u2501\u2501\u2501\u2501\u2501\u2501\u2501\u2501\u2501\u2501\u2501\u001b[0m \u001b[32m18.3/18.3 MB\u001b[0m \u001b[31m110.3 MB/s\u001b[0m eta \u001b[36m0:00:00\u001b[0m\n",
            "\u001b[?25hInstalling collected packages: numpy\n",
            "  Attempting uninstall: numpy\n",
            "    Found existing installation: numpy 2.0.2\n",
            "    Uninstalling numpy-2.0.2:\n",
            "      Successfully uninstalled numpy-2.0.2\n",
            "\u001b[31mERROR: pip's dependency resolver does not currently take into account all the packages that are installed. This behaviour is the source of the following dependency conflicts.\n",
            "thinc 8.3.6 requires numpy<3.0.0,>=2.0.0, but you have numpy 1.26.4 which is incompatible.\n",
            "opencv-python-headless 4.12.0.88 requires numpy<2.3.0,>=2; python_version >= \"3.9\", but you have numpy 1.26.4 which is incompatible.\u001b[0m\u001b[31m\n",
            "\u001b[0mSuccessfully installed numpy-1.26.4\n"
          ]
        },
        {
          "output_type": "display_data",
          "data": {
            "application/vnd.colab-display-data+json": {
              "pip_warning": {
                "packages": [
                  "numpy"
                ]
              },
              "id": "c0d264a7ab384c60b10c78baabfe5be5"
            }
          },
          "metadata": {}
        }
      ]
    },
    {
      "cell_type": "code",
      "source": [
        "import os\n",
        "import pandas as pd\n",
        "\n",
        "def load_data(folder_path, label):\n",
        "    data = []\n",
        "    for file in os.listdir(folder_path):\n",
        "        file_path = os.path.join(folder_path, file)\n",
        "        with open(file_path, 'r', encoding='utf-8', errors='ignore') as f:\n",
        "            text = f.read().strip()\n",
        "            if text:\n",
        "                data.append((text, label))\n",
        "    return data\n",
        "\n",
        "# Load data\n",
        "left_data = load_data('Left Data/Left Data', 0)\n",
        "center_data = load_data('Center Data/Center Data', 1)\n",
        "right_data = load_data('Right Data/Right Data', 2)\n",
        "\n",
        "# Combine into a dataframe\n",
        "all_data = pd.DataFrame(left_data + center_data + right_data, columns=['text', 'label'])\n",
        "all_data = all_data.sample(frac=1, random_state=42).reset_index(drop=True)  # Shuffle\n",
        "print(all_data['label'].value_counts())\n",
        "all_data.head()\n"
      ],
      "metadata": {
        "colab": {
          "base_uri": "https://localhost:8080/",
          "height": 293
        },
        "id": "NpzXqvgHK96o",
        "outputId": "ef978917-4273-49fe-df01-3aa3d4613925"
      },
      "execution_count": 1,
      "outputs": [
        {
          "output_type": "stream",
          "name": "stdout",
          "text": [
            "label\n",
            "0    7803\n",
            "2    5563\n",
            "1    3996\n",
            "Name: count, dtype: int64\n"
          ]
        },
        {
          "output_type": "execute_result",
          "data": {
            "text/plain": [
              "                                                text  label\n",
              "0  Oregon Gov. Kate Brown said Wednesday that the...      0\n",
              "1  Credit...Richard Perry/The New York TimesMarch...      0\n",
              "2  An independent panel of medical experts overse...      2\n",
              "3  PoliticsBiden Keeps Up Pressure On Putin To Pu...      0\n",
              "4  | December 30, 2020 09:39 AM                In...      2"
            ],
            "text/html": [
              "\n",
              "  <div id=\"df-b98306c6-8a5c-4f89-867b-a44f924cf392\" class=\"colab-df-container\">\n",
              "    <div>\n",
              "<style scoped>\n",
              "    .dataframe tbody tr th:only-of-type {\n",
              "        vertical-align: middle;\n",
              "    }\n",
              "\n",
              "    .dataframe tbody tr th {\n",
              "        vertical-align: top;\n",
              "    }\n",
              "\n",
              "    .dataframe thead th {\n",
              "        text-align: right;\n",
              "    }\n",
              "</style>\n",
              "<table border=\"1\" class=\"dataframe\">\n",
              "  <thead>\n",
              "    <tr style=\"text-align: right;\">\n",
              "      <th></th>\n",
              "      <th>text</th>\n",
              "      <th>label</th>\n",
              "    </tr>\n",
              "  </thead>\n",
              "  <tbody>\n",
              "    <tr>\n",
              "      <th>0</th>\n",
              "      <td>Oregon Gov. Kate Brown said Wednesday that the...</td>\n",
              "      <td>0</td>\n",
              "    </tr>\n",
              "    <tr>\n",
              "      <th>1</th>\n",
              "      <td>Credit...Richard Perry/The New York TimesMarch...</td>\n",
              "      <td>0</td>\n",
              "    </tr>\n",
              "    <tr>\n",
              "      <th>2</th>\n",
              "      <td>An independent panel of medical experts overse...</td>\n",
              "      <td>2</td>\n",
              "    </tr>\n",
              "    <tr>\n",
              "      <th>3</th>\n",
              "      <td>PoliticsBiden Keeps Up Pressure On Putin To Pu...</td>\n",
              "      <td>0</td>\n",
              "    </tr>\n",
              "    <tr>\n",
              "      <th>4</th>\n",
              "      <td>| December 30, 2020 09:39 AM                In...</td>\n",
              "      <td>2</td>\n",
              "    </tr>\n",
              "  </tbody>\n",
              "</table>\n",
              "</div>\n",
              "    <div class=\"colab-df-buttons\">\n",
              "\n",
              "  <div class=\"colab-df-container\">\n",
              "    <button class=\"colab-df-convert\" onclick=\"convertToInteractive('df-b98306c6-8a5c-4f89-867b-a44f924cf392')\"\n",
              "            title=\"Convert this dataframe to an interactive table.\"\n",
              "            style=\"display:none;\">\n",
              "\n",
              "  <svg xmlns=\"http://www.w3.org/2000/svg\" height=\"24px\" viewBox=\"0 -960 960 960\">\n",
              "    <path d=\"M120-120v-720h720v720H120Zm60-500h600v-160H180v160Zm220 220h160v-160H400v160Zm0 220h160v-160H400v160ZM180-400h160v-160H180v160Zm440 0h160v-160H620v160ZM180-180h160v-160H180v160Zm440 0h160v-160H620v160Z\"/>\n",
              "  </svg>\n",
              "    </button>\n",
              "\n",
              "  <style>\n",
              "    .colab-df-container {\n",
              "      display:flex;\n",
              "      gap: 12px;\n",
              "    }\n",
              "\n",
              "    .colab-df-convert {\n",
              "      background-color: #E8F0FE;\n",
              "      border: none;\n",
              "      border-radius: 50%;\n",
              "      cursor: pointer;\n",
              "      display: none;\n",
              "      fill: #1967D2;\n",
              "      height: 32px;\n",
              "      padding: 0 0 0 0;\n",
              "      width: 32px;\n",
              "    }\n",
              "\n",
              "    .colab-df-convert:hover {\n",
              "      background-color: #E2EBFA;\n",
              "      box-shadow: 0px 1px 2px rgba(60, 64, 67, 0.3), 0px 1px 3px 1px rgba(60, 64, 67, 0.15);\n",
              "      fill: #174EA6;\n",
              "    }\n",
              "\n",
              "    .colab-df-buttons div {\n",
              "      margin-bottom: 4px;\n",
              "    }\n",
              "\n",
              "    [theme=dark] .colab-df-convert {\n",
              "      background-color: #3B4455;\n",
              "      fill: #D2E3FC;\n",
              "    }\n",
              "\n",
              "    [theme=dark] .colab-df-convert:hover {\n",
              "      background-color: #434B5C;\n",
              "      box-shadow: 0px 1px 3px 1px rgba(0, 0, 0, 0.15);\n",
              "      filter: drop-shadow(0px 1px 2px rgba(0, 0, 0, 0.3));\n",
              "      fill: #FFFFFF;\n",
              "    }\n",
              "  </style>\n",
              "\n",
              "    <script>\n",
              "      const buttonEl =\n",
              "        document.querySelector('#df-b98306c6-8a5c-4f89-867b-a44f924cf392 button.colab-df-convert');\n",
              "      buttonEl.style.display =\n",
              "        google.colab.kernel.accessAllowed ? 'block' : 'none';\n",
              "\n",
              "      async function convertToInteractive(key) {\n",
              "        const element = document.querySelector('#df-b98306c6-8a5c-4f89-867b-a44f924cf392');\n",
              "        const dataTable =\n",
              "          await google.colab.kernel.invokeFunction('convertToInteractive',\n",
              "                                                    [key], {});\n",
              "        if (!dataTable) return;\n",
              "\n",
              "        const docLinkHtml = 'Like what you see? Visit the ' +\n",
              "          '<a target=\"_blank\" href=https://colab.research.google.com/notebooks/data_table.ipynb>data table notebook</a>'\n",
              "          + ' to learn more about interactive tables.';\n",
              "        element.innerHTML = '';\n",
              "        dataTable['output_type'] = 'display_data';\n",
              "        await google.colab.output.renderOutput(dataTable, element);\n",
              "        const docLink = document.createElement('div');\n",
              "        docLink.innerHTML = docLinkHtml;\n",
              "        element.appendChild(docLink);\n",
              "      }\n",
              "    </script>\n",
              "  </div>\n",
              "\n",
              "\n",
              "    <div id=\"df-bc30ec0c-5dc2-4e3a-8359-96890a202ea3\">\n",
              "      <button class=\"colab-df-quickchart\" onclick=\"quickchart('df-bc30ec0c-5dc2-4e3a-8359-96890a202ea3')\"\n",
              "                title=\"Suggest charts\"\n",
              "                style=\"display:none;\">\n",
              "\n",
              "<svg xmlns=\"http://www.w3.org/2000/svg\" height=\"24px\"viewBox=\"0 0 24 24\"\n",
              "     width=\"24px\">\n",
              "    <g>\n",
              "        <path d=\"M19 3H5c-1.1 0-2 .9-2 2v14c0 1.1.9 2 2 2h14c1.1 0 2-.9 2-2V5c0-1.1-.9-2-2-2zM9 17H7v-7h2v7zm4 0h-2V7h2v10zm4 0h-2v-4h2v4z\"/>\n",
              "    </g>\n",
              "</svg>\n",
              "      </button>\n",
              "\n",
              "<style>\n",
              "  .colab-df-quickchart {\n",
              "      --bg-color: #E8F0FE;\n",
              "      --fill-color: #1967D2;\n",
              "      --hover-bg-color: #E2EBFA;\n",
              "      --hover-fill-color: #174EA6;\n",
              "      --disabled-fill-color: #AAA;\n",
              "      --disabled-bg-color: #DDD;\n",
              "  }\n",
              "\n",
              "  [theme=dark] .colab-df-quickchart {\n",
              "      --bg-color: #3B4455;\n",
              "      --fill-color: #D2E3FC;\n",
              "      --hover-bg-color: #434B5C;\n",
              "      --hover-fill-color: #FFFFFF;\n",
              "      --disabled-bg-color: #3B4455;\n",
              "      --disabled-fill-color: #666;\n",
              "  }\n",
              "\n",
              "  .colab-df-quickchart {\n",
              "    background-color: var(--bg-color);\n",
              "    border: none;\n",
              "    border-radius: 50%;\n",
              "    cursor: pointer;\n",
              "    display: none;\n",
              "    fill: var(--fill-color);\n",
              "    height: 32px;\n",
              "    padding: 0;\n",
              "    width: 32px;\n",
              "  }\n",
              "\n",
              "  .colab-df-quickchart:hover {\n",
              "    background-color: var(--hover-bg-color);\n",
              "    box-shadow: 0 1px 2px rgba(60, 64, 67, 0.3), 0 1px 3px 1px rgba(60, 64, 67, 0.15);\n",
              "    fill: var(--button-hover-fill-color);\n",
              "  }\n",
              "\n",
              "  .colab-df-quickchart-complete:disabled,\n",
              "  .colab-df-quickchart-complete:disabled:hover {\n",
              "    background-color: var(--disabled-bg-color);\n",
              "    fill: var(--disabled-fill-color);\n",
              "    box-shadow: none;\n",
              "  }\n",
              "\n",
              "  .colab-df-spinner {\n",
              "    border: 2px solid var(--fill-color);\n",
              "    border-color: transparent;\n",
              "    border-bottom-color: var(--fill-color);\n",
              "    animation:\n",
              "      spin 1s steps(1) infinite;\n",
              "  }\n",
              "\n",
              "  @keyframes spin {\n",
              "    0% {\n",
              "      border-color: transparent;\n",
              "      border-bottom-color: var(--fill-color);\n",
              "      border-left-color: var(--fill-color);\n",
              "    }\n",
              "    20% {\n",
              "      border-color: transparent;\n",
              "      border-left-color: var(--fill-color);\n",
              "      border-top-color: var(--fill-color);\n",
              "    }\n",
              "    30% {\n",
              "      border-color: transparent;\n",
              "      border-left-color: var(--fill-color);\n",
              "      border-top-color: var(--fill-color);\n",
              "      border-right-color: var(--fill-color);\n",
              "    }\n",
              "    40% {\n",
              "      border-color: transparent;\n",
              "      border-right-color: var(--fill-color);\n",
              "      border-top-color: var(--fill-color);\n",
              "    }\n",
              "    60% {\n",
              "      border-color: transparent;\n",
              "      border-right-color: var(--fill-color);\n",
              "    }\n",
              "    80% {\n",
              "      border-color: transparent;\n",
              "      border-right-color: var(--fill-color);\n",
              "      border-bottom-color: var(--fill-color);\n",
              "    }\n",
              "    90% {\n",
              "      border-color: transparent;\n",
              "      border-bottom-color: var(--fill-color);\n",
              "    }\n",
              "  }\n",
              "</style>\n",
              "\n",
              "      <script>\n",
              "        async function quickchart(key) {\n",
              "          const quickchartButtonEl =\n",
              "            document.querySelector('#' + key + ' button');\n",
              "          quickchartButtonEl.disabled = true;  // To prevent multiple clicks.\n",
              "          quickchartButtonEl.classList.add('colab-df-spinner');\n",
              "          try {\n",
              "            const charts = await google.colab.kernel.invokeFunction(\n",
              "                'suggestCharts', [key], {});\n",
              "          } catch (error) {\n",
              "            console.error('Error during call to suggestCharts:', error);\n",
              "          }\n",
              "          quickchartButtonEl.classList.remove('colab-df-spinner');\n",
              "          quickchartButtonEl.classList.add('colab-df-quickchart-complete');\n",
              "        }\n",
              "        (() => {\n",
              "          let quickchartButtonEl =\n",
              "            document.querySelector('#df-bc30ec0c-5dc2-4e3a-8359-96890a202ea3 button');\n",
              "          quickchartButtonEl.style.display =\n",
              "            google.colab.kernel.accessAllowed ? 'block' : 'none';\n",
              "        })();\n",
              "      </script>\n",
              "    </div>\n",
              "\n",
              "    </div>\n",
              "  </div>\n"
            ],
            "application/vnd.google.colaboratory.intrinsic+json": {
              "type": "dataframe",
              "variable_name": "all_data",
              "summary": "{\n  \"name\": \"all_data\",\n  \"rows\": 17362,\n  \"fields\": [\n    {\n      \"column\": \"text\",\n      \"properties\": {\n        \"dtype\": \"string\",\n        \"num_unique_values\": 17059,\n        \"samples\": [\n          \"WHILE IT\\u2019S unlikely anyone can say with certainty what were the origins of America\\u2019s Memorial Day, it is generally accepted that the custom of decorating graves in remembrance of the war dead began after the Civil War, among families of fallen Confederate soldiers. But the historian David W. Blight makes an argument that the first such observance was in fact the work of newly freed Black people seeking to honor the 40,000\\u00a0African American soldiers who died in the war. The tribute consisted of elaborate ceremonies, parades, prayers, scripture readings and speeches. The Black soldiers deserved the honor: They gave their lives for the most American of causes, freedom and Union. It\\u2019s good, though, that they had such attention lavished on them then, because fairly soon afterward, they faded from much of the nation\\u2019s memory, as did their cause.Instead, over time in the late 19th\\u00a0century, many such observances of this day of remembrance became occasions for unreconstructed Confederates to advance what became known as the Lost Cause, a willful displacement of actual history by a mythology meant to justify the rebellion and all but deify its leaders. They portrayed Southern soldiers as chivalrous and brave but unable to overcome Yankee numbers and industrial might. They spoke of a Southern \\u201cnation\\u201d united against Northern \\u201caggression,\\u201d and of the happiness and contentment of their enslaved \\u201cservants.\\u201d The military genius of Robert E.\\u00a0Lee and the virtue and necessity of white supremacy were extolled.Missing from most versions of this tale was any semblance of reality, including such things as the opposition to secession shared by many thousands of southern Whites who benefited little or not at all from the slave economy. The horrors of slavery were all but ignored. The great tragedy was that so much of this myth made its way into the public consciousness, North and South, contributing to a century of repression and racial discrimination that mocked Abraham Lincoln\\u2019s hope \\u2014 voiced among the soldiers\\u2019 graves at Gettysburg \\u2014 that their deaths would not be in vain but would bring a new birth of freedom.On a Memorial Day 58 years after that speech, White mobs in Tulsa engaged in one of the worst riots in American history, in which an unknown number of Black people were killed and the city\\u2019s thriving Black business district destroyed. Among those trying to stop the mob was a sizable contingent of African American World War I veterans. On the other side were numerous White veterans.That same year, 1921, the nation\\u2019s attention turned to a ceremony on a hillside overlooking the nation\\u2019s capital: the interment of an unknown soldier of the Great War, one of many thousands whose remains could not be identified. The dignified passage of the soldier\\u2019s casket from France to Arlington National Cemetery was closely followed by millions of Americans, and many thousands came to view the interment on Nov. 11, 1921.\\u201cToday, the Tomb of the Unknown Soldier is as solid in the public psyche as its massive marble slabs are heavy on the hallowed ground,\\u201d Steve Hendrix wrote in The Post a few years ago. \\u201cThe resting place of one \\u2018soldier known but to God\\u2019 sits at the center of national remembrance.\\u201dPart of that remembrance should include words spoken in Congress by Hamilton Fish Jr., a Republican representative from New York who had commanded a Black unit in the Great War. The purpose, he said, was \\u201cto bring home the body of an unknown American warrior who in himself represents no section, creed, or race in the late war and who typifies, moreover, the soul of America and the supreme sacrifice of her heroic dead.\\u201dA century later, that is still the standard for a true Memorial Day.Read more:\",\n          \"WASHINGTON\\u2014The House Judiciary Committee said it would vote Wednesday on whether to hold Attorney General         William Barr    in contempt of Congress, escalating a dispute with the         Trump    administration after Mr. Barr missed lawmakers\\u2019 deadline to turn over an unredacted version of special counsel Robert Mueller\\u2019s report.If the panel, chaired by Rep.         Jerrold Nadler    (D., N.Y.), approves the resolution, as expected, it would then need to be approved by the full House. The contempt measure refers Mr. Barr for possible federal criminal prosecution while also opening more legal avenues for House Democrats to try to force the release of the full report on President Trump and Russian election interference through a civil lawsuit. \\u201cThe Attorney General\\u2019s failure to comply with our subpoena, after extensive accommodation efforts, leaves us no choice but to initiate contempt proceedings in order to enforce the subpoena and access the full, unredacted report,\\u201d Mr. Nadler said. \\u201cIf the Department presents us with a good faith offer for access to the full report and the underlying evidence, I reserve the right to postpone these proceedings.\\u201d     The Judiciary Committee had set a Monday deadline for the Justice Department to comply with a subpoena, first issued April 19, for the entire special counsel report as well as underlying evidence. Mr. Barr testified before a Senate panel last Wednesday and had been scheduled to appear before a House panel the next day, but he canceled that appearance over a squabble with House Democrats over the hearing\\u2019s format.               Separately, Mr. Trump tweeted Sunday that Mr. Mueller shouldn\\u2019t testify before Congress after two days earlier saying that decision should be up to the attorney general. Mr. Barr, for his part, had previously said he had no objection to such testimony, and congressional panels had been working with a representative of Mr. Mueller\\u2019s to work that out.      The scheduling of the contempt vote is the latest manifestation of the increasing tension between the Trump administration and congressional Democrats. At issue is Mr. Barr\\u2019s handling of the public rollout of Mr. Mueller\\u2019s findings on whether Mr. Trump\\u2019s 2016 campaign coordinated with Russians trying to disrupt the 2016 election and whether Mr. Trump obstructed justice in the investigation.      Last week, House Speaker      Nancy Pelosi        accused Mr. Barr of having misled Congress about the findings in recent weeks.        \\nShare Your ThoughtsHow do you think the standoff between Congress and Attorney General William Barr will be resolved? Join the conversation below.        The Justice Department says it is legally barred from turning over the full report because it contains information obtained by using a grand jury, which is by law secret. It has also maintained that Congress has no right to demand raw evidence gathered in a criminal probe.     Courts have ordered grand jury material to be released to Congress in previous investigations involving presidents, as in during Watergate and the Clinton impeachment. The committee has urged Mr. Barr to request a court unseal the Mueller report\\u2014a step he hasn\\u2019t taken.     The department has also said it has already accommodated public interest in the report by releasing a redacted version to the public and making a less redacted version available to senior congressional leaders.     The Justice Department on Monday invited congressional leaders to the department for further negotiations over the impasse.      \\u201cThe Department remains willing to accommodate Congress\\u2019s legitimate needs, but must do so consistent with the law,\\u201d said a department spokeswoman.              Rep. Doug Collins    of Georgia, the top Republican on the Judiciary committee, called the action by Democrats \\u201cillogical and disingenuous\\u201d and suggested that the panel should instead pass legislation allowing grand jury information to be turned over to Congress.                                         The fight between House Democrats and the Trump administration in the aftermath of Robert Mueller's report is getting increasingly tense. What will come next? WSJ's Gerald F. Seib explains. Photos: AP                                                                                                     \\u201cDemocrats have launched a proxy war smearing the attorney general when their anger actually lies with the president and the special counsel, who found neither conspiracy nor obstruction,\\u201d Mr. Collins said.     While Mr. Mueller\\u2019s report outlined efforts by Mr. Trump to curtail or shut down the probe, the special counsel didn\\u2019t pursue charges of obstruction of justice on Mr. Trump, citing in part Justice Department guidance. He also didn\\u2019t establish that members of the Trump campaign conspired with the Russian government despite repeated contacts with Moscow-linked entities in 2016.     A contempt citation from Congress of a senior administration official is a rare, but not unheard of, action in disputes over documents or testimony.\\u00a0In most circumstances, the department has policies against bringing criminal charges against its own officials in clashes with Congress and has historically declined to act on such requests.     But moving forward on contempt also paves the way for a potential civil lawsuit to gain access to the report. Courts have rarely had to grapple with the legal boundaries of such disputes. They have generally recognized the right of Congress to compel testimony and documents as part of its oversight function\\u2014as well as the right of the executive branch to shield some sensitive material from disclosure to Capitol Hill or the public.     Such litigation could take years.     Former Attorney General         Eric Holder    was held in contempt in 2012 after refusing congressional requests for access to documents about a law-enforcement program called \\u201cFast and Furious.\\u201d Mr. Holder invoked the executive privilege doctrine to shield some documents from Congress, provoking the GOP-led panel to hold him in contempt.     The Justice Department unsurprisingly declined criminal contempt charges against its own leader. Republicans then filed a civil lawsuit, in which they prevailed on a number of questions. When it took power, the Trump administration moved to settle the suit and turn over some of the documents\\u2014but the case still isn\\u2019t fully resolved and a settlement remains pending.     Democrats last week also hinted they could revive a dormant power of Congress called inherent contempt, in which Congress either levies fines or physically detains a recalcitrant witness. Such a step would be unprecedented in modern relations between Congress and the executive branch, though courts have repeatedly upheld the congressional power to arrest witnesses who defy subpoenas.     Write to Byron Tau at byron.tau@wsj.com     Copyright \\u00a92022 Dow Jones & Company, Inc. All Rights Reserved. 87990cbe856818d5eddac44c7b1cdeb8\",\n          \"The FBI has confirmed that Anthony Warner, 63, was the culprit behind a Christmas Day bombing in downtown Nashville.       \\\"Based on the evidence that we got at this point, we\\u2019ve come to the conclusion that an individual named Anthony Warner is the bomber,\\\" U.S. Attorney Don Cochran said, adding that Warner perished in the explosion.            The explosion left at least three people hospitalized and 41 businesses damaged \\u2014 perhaps most significantly an AT&T facility adjacent to where the RV that exploded was positioned. The blast caused outages in parts of Tennessee, Alabama, and Kentucky and affected services ranging from residential phones to 911 services.      Tennessee Bureau of Investigations Director David Rausch acknowledged the \\\"collaborative effort\\\" that took place to conduct the investigation and the \\\"agents, analysts, and scientists that have been assisting in this investigation from the start.\\\"      Rausch said Warner's identity was confirmed based on DNA testing conducted from human remains found at the crime scene and a sample taken from a vehicle used by Warner. \\\"At approximately midnight Central Time, forensic scientists with TBI confirmed a match of the DNA at both locations belonging to the person of interest in this case,\\\" Rausch said. \\\"TBI continues to support this ongoing investigation.\\\"      Special Agent Doug Korneski added that the bureau was still following leads but reaffirmed that it has found no evidence that any other individuals participated in the planning or execution of the attack.       \\\"We\\u2019re still following leads right now,\\\" Korneski said. \\\"There is no indication that any other persons were involved. We reviewed hours of security video surrounding the recreational vehicle as well. We saw no other people involved around that vehicle.\\\"       Korneski said investigators were able to recover a vehicle identification number that traced the detonated RV to Warner.       The FBI indicated that the DNA testing relied on DNA from a member of Warner's family to confirm the match so rapidly.                       The FBI indicates that there was DNA gathered from one of Warner's relatives which helped them with the DNA comparison.Also, TBI says there was NO prior contact with Warner and law enforcement.\\u2014 Tom Winter (@Tom_Winter) December 27, 2020                             Investigators have yet to comment on potential motivations behind the explosion, but speculation has surfaced that it could have been because of paranoia regarding 5G technology. A real estate agent named Steve Fridrich told Newsweek that he contacted the FBI about a man he previously worked with named Tony Warner. Fridrich has said the FBI asked him if Warner was paranoid about 5G technology being used to spy on people.      Warner reportedly worked for Fridich's company, Fridrich & Clark Realty office, as \\u201ccontract laborer for computer consulting for the company,\\u201d according to the Tennessean.      Investigators are also reportedly looking into whether the previous employment of Warner's father could have been a motivation. Charles Warner worked for BellSouth before he died in 2011. BellSouth was merged into AT&T in 2006.      Korneski said the FBI was still investigating \\\"any and all possible motives\\\" and that the bureau was questioning people who knew Warner.\"\n        ],\n        \"semantic_type\": \"\",\n        \"description\": \"\"\n      }\n    },\n    {\n      \"column\": \"label\",\n      \"properties\": {\n        \"dtype\": \"number\",\n        \"std\": 0,\n        \"min\": 0,\n        \"max\": 2,\n        \"num_unique_values\": 3,\n        \"samples\": [\n          0,\n          2,\n          1\n        ],\n        \"semantic_type\": \"\",\n        \"description\": \"\"\n      }\n    }\n  ]\n}"
            }
          },
          "metadata": {},
          "execution_count": 1
        }
      ]
    },
    {
      "cell_type": "code",
      "source": [
        "from sklearn.model_selection import train_test_split\n",
        "\n",
        "# Split into train/val/test\n",
        "train_texts, temp_texts, train_labels, temp_labels = train_test_split(\n",
        "    all_data['text'], all_data['label'], test_size=0.3, random_state=42, stratify=all_data['label']\n",
        ")\n",
        "\n",
        "val_texts, test_texts, val_labels, test_labels = train_test_split(\n",
        "    temp_texts, temp_labels, test_size=0.5, random_state=42, stratify=temp_labels\n",
        ")\n"
      ],
      "metadata": {
        "id": "DFWHSrxOLM39"
      },
      "execution_count": 2,
      "outputs": []
    },
    {
      "cell_type": "code",
      "source": [
        "from transformers import DistilBertTokenizerFast\n",
        "\n",
        "tokenizer = DistilBertTokenizerFast.from_pretrained('distilbert-base-uncased')\n",
        "\n",
        "train_encodings = tokenizer(list(train_texts), truncation=True, padding=True, max_length=512)\n",
        "val_encodings = tokenizer(list(val_texts), truncation=True, padding=True, max_length=512)\n",
        "test_encodings = tokenizer(list(test_texts), truncation=True, padding=True, max_length=512)\n"
      ],
      "metadata": {
        "colab": {
          "base_uri": "https://localhost:8080/",
          "height": 269,
          "referenced_widgets": [
            "461796d79bb1486eae2d59973492633a",
            "ec1bee4feacc41539826dc90a4c50eb5",
            "30e4316524384ba0b2149656106a0eda",
            "8a2231d713cb460db5044b02f4252ed6",
            "5a86884d100d40338a9613557f42a5c9",
            "37e03d2907e64d7497cc5c06a8f653b9",
            "8c3023bf615142229ff5a10c5779f97a",
            "dd60b2e564c54554a9501fa68c86606d",
            "62a272da475d46b3bb0c2426acf4ad18",
            "70a5eca93bc74b2d96767798c2dc51e9",
            "317bf345abfc469eba936ab1c9ed2822",
            "44511126536b45cc870929fd46520876",
            "1a5599a6102241919afec59e43bf58de",
            "93f2199017224d4dbbe70035e4032a03",
            "91af50595ded4460a180bbdab9a0f344",
            "65f8624c830245ce9018fe916a99c841",
            "f079bd5c03ad4631ab54acc3bde18813",
            "ec2698620bc2485cb10879a342d4edd7",
            "6e77fe4625494e6b8f9d88f4db7bab8d",
            "34d2be7f167841e397affe9dfc1e68a4",
            "a64df1a72c2a4c30bd39a721ca64d30d",
            "26e7b6e5f7b0403d92093d0b35232137",
            "07a1556c70fa4e39badb31a8a746688f",
            "638ee701b2944fdabe956bb232e2735b",
            "e1067e1582564f63b5cb5471a82334ff",
            "08af1b1282554ecd92d24dabedf3b972",
            "bbdf8752ff2a416687e9a67879eb17bd",
            "5a385c4808e84b0da620aad40d4f8265",
            "ba67e5fe45d143ea874a5478f47f5335",
            "e484a0f9b8a2439a9b849ce9473b74b7",
            "1a88fa6ec379416aa712da8fee3e2747",
            "0d19b842a917419693130ad52d4e281d",
            "08c211600ce644c39ebe0a7bd01aece5",
            "517b267deb4e41708dc8089867e89f97",
            "aade2d726cb24b13b35b31e21c25cc6d",
            "7d647b053b6044059dd48b75cc6241b6",
            "e56eeafd96bb4b4abd285b928a633ad9",
            "2e122b2367af4b60a7a887e98d03218e",
            "fdc9c0d65b4d4840be6aa4c9c56bd3f8",
            "869eafffc30c486e9423e96cf29c4829",
            "47cdb031cfc14bbe82deabcc3c2986e6",
            "ac05c504996b4b2bbd8825ea08ff5273",
            "2357232bda9245faa5d1f3ae85b113ee",
            "418949eb2a1d4f0782e9fce3424f5c6b"
          ]
        },
        "id": "Y7tE5nb5LQD5",
        "outputId": "88cd28aa-932c-4996-8814-c46bda64fb81"
      },
      "execution_count": 3,
      "outputs": [
        {
          "output_type": "stream",
          "name": "stderr",
          "text": [
            "/usr/local/lib/python3.11/dist-packages/huggingface_hub/utils/_auth.py:94: UserWarning: \n",
            "The secret `HF_TOKEN` does not exist in your Colab secrets.\n",
            "To authenticate with the Hugging Face Hub, create a token in your settings tab (https://huggingface.co/settings/tokens), set it as secret in your Google Colab and restart your session.\n",
            "You will be able to reuse this secret in all of your notebooks.\n",
            "Please note that authentication is recommended but still optional to access public models or datasets.\n",
            "  warnings.warn(\n"
          ]
        },
        {
          "output_type": "display_data",
          "data": {
            "text/plain": [
              "tokenizer_config.json:   0%|          | 0.00/48.0 [00:00<?, ?B/s]"
            ],
            "application/vnd.jupyter.widget-view+json": {
              "version_major": 2,
              "version_minor": 0,
              "model_id": "461796d79bb1486eae2d59973492633a"
            }
          },
          "metadata": {}
        },
        {
          "output_type": "display_data",
          "data": {
            "text/plain": [
              "vocab.txt:   0%|          | 0.00/232k [00:00<?, ?B/s]"
            ],
            "application/vnd.jupyter.widget-view+json": {
              "version_major": 2,
              "version_minor": 0,
              "model_id": "44511126536b45cc870929fd46520876"
            }
          },
          "metadata": {}
        },
        {
          "output_type": "display_data",
          "data": {
            "text/plain": [
              "tokenizer.json:   0%|          | 0.00/466k [00:00<?, ?B/s]"
            ],
            "application/vnd.jupyter.widget-view+json": {
              "version_major": 2,
              "version_minor": 0,
              "model_id": "07a1556c70fa4e39badb31a8a746688f"
            }
          },
          "metadata": {}
        },
        {
          "output_type": "display_data",
          "data": {
            "text/plain": [
              "config.json:   0%|          | 0.00/483 [00:00<?, ?B/s]"
            ],
            "application/vnd.jupyter.widget-view+json": {
              "version_major": 2,
              "version_minor": 0,
              "model_id": "517b267deb4e41708dc8089867e89f97"
            }
          },
          "metadata": {}
        }
      ]
    },
    {
      "cell_type": "code",
      "source": [
        "import torch\n",
        "\n",
        "class BiasDataset(torch.utils.data.Dataset):\n",
        "    def __init__(self, encodings, labels):\n",
        "        self.encodings = encodings\n",
        "        self.labels = labels\n",
        "\n",
        "    def __len__(self):\n",
        "        return len(self.labels)\n",
        "\n",
        "    def __getitem__(self, idx):\n",
        "        return {\n",
        "            'input_ids': torch.tensor(self.encodings['input_ids'][idx]),\n",
        "            'attention_mask': torch.tensor(self.encodings['attention_mask'][idx]),\n",
        "            'labels': torch.tensor(self.labels[idx])\n",
        "        }\n",
        "\n",
        "train_dataset = BiasDataset(train_encodings, list(train_labels))\n",
        "val_dataset = BiasDataset(val_encodings, list(val_labels))\n",
        "test_dataset = BiasDataset(test_encodings, list(test_labels))\n"
      ],
      "metadata": {
        "id": "6r8RXrghLVv4"
      },
      "execution_count": 4,
      "outputs": []
    },
    {
      "cell_type": "code",
      "source": [
        "from google.colab import drive\n",
        "drive.mount('/content/drive')\n"
      ],
      "metadata": {
        "colab": {
          "base_uri": "https://localhost:8080/"
        },
        "id": "kPhO19tHMMGS",
        "outputId": "873c4d62-b7c6-43fe-b178-67c51b3d4346"
      },
      "execution_count": 5,
      "outputs": [
        {
          "output_type": "stream",
          "name": "stdout",
          "text": [
            "Mounted at /content/drive\n"
          ]
        }
      ]
    },
    {
      "cell_type": "code",
      "source": [
        "output_dir = \"/content/drive/MyDrive/political_bias_model\"\n"
      ],
      "metadata": {
        "id": "WFD8toGvMU2V"
      },
      "execution_count": 6,
      "outputs": []
    },
    {
      "cell_type": "code",
      "source": [
        "from transformers import DistilBertForSequenceClassification, Trainer, TrainingArguments\n",
        "\n",
        "model = DistilBertForSequenceClassification.from_pretrained(\"distilbert-base-uncased\", num_labels=3)\n",
        "\n",
        "training_args = TrainingArguments(\n",
        "    output_dir=output_dir,  # Save all checkpoints, logs, model here\n",
        "    eval_strategy=\"epoch\",\n",
        "    save_strategy=\"epoch\",\n",
        "    learning_rate=2e-5,\n",
        "    per_device_train_batch_size=16,\n",
        "    per_device_eval_batch_size=64,\n",
        "    num_train_epochs=4,\n",
        "    weight_decay=0.01,\n",
        "    logging_dir=f\"{output_dir}/logs\",  # Log files\n",
        "    save_total_limit=2,  # Keep only the 2 most recent checkpoints to save space\n",
        "    load_best_model_at_end=True,\n",
        "    metric_for_best_model=\"eval_loss\",\n",
        "    greater_is_better=False  # Because lower eval_loss is better\n",
        ")\n"
      ],
      "metadata": {
        "colab": {
          "base_uri": "https://localhost:8080/",
          "height": 104,
          "referenced_widgets": [
            "bcbd5335f61f4b66a616b3bdcfcb7556",
            "955a9317b7a04124a5b621bc684aded3",
            "34d4503634d94179be77e6c58ee90f16",
            "b2266148b1434642b5ec727e4d1de25a",
            "97d034b2490d4e3783a168691f967768",
            "03e2f052a0c14466be57a376a44234e9",
            "2e4c7144c76e4579950963fe1a134378",
            "a094b316c73f45edbcb87f07a351d066",
            "668caf59bbbb4bc39136ebd69810c9c6",
            "739611ca25f24711958c6e36d3739c38",
            "14b2e790b5d54ef18772c6b564705015"
          ]
        },
        "id": "90kxLJaUL2S4",
        "outputId": "b8eb74a2-b11a-4412-dfce-b5684c78d21d"
      },
      "execution_count": 7,
      "outputs": [
        {
          "output_type": "display_data",
          "data": {
            "text/plain": [
              "model.safetensors:   0%|          | 0.00/268M [00:00<?, ?B/s]"
            ],
            "application/vnd.jupyter.widget-view+json": {
              "version_major": 2,
              "version_minor": 0,
              "model_id": "bcbd5335f61f4b66a616b3bdcfcb7556"
            }
          },
          "metadata": {}
        },
        {
          "output_type": "stream",
          "name": "stderr",
          "text": [
            "Some weights of DistilBertForSequenceClassification were not initialized from the model checkpoint at distilbert-base-uncased and are newly initialized: ['classifier.bias', 'classifier.weight', 'pre_classifier.bias', 'pre_classifier.weight']\n",
            "You should probably TRAIN this model on a down-stream task to be able to use it for predictions and inference.\n"
          ]
        }
      ]
    },
    {
      "cell_type": "code",
      "source": [
        "import os\n",
        "os.makedirs(output_dir, exist_ok=True)\n"
      ],
      "metadata": {
        "id": "m3OnpaqVNEMG"
      },
      "execution_count": 8,
      "outputs": []
    },
    {
      "cell_type": "code",
      "source": [
        "from sklearn.metrics import accuracy_score, f1_score\n",
        "\n",
        "def compute_metrics(p):\n",
        "    preds = p.predictions.argmax(axis=1)\n",
        "    labels = p.label_ids\n",
        "    return {\n",
        "        'accuracy': accuracy_score(labels, preds),\n",
        "        'f1_macro': f1_score(labels, preds, average='macro'),\n",
        "        'f1_weighted': f1_score(labels, preds, average='weighted'),\n",
        "    }\n",
        "\n",
        "trainer = Trainer(\n",
        "    model=model,\n",
        "    args=training_args,\n",
        "    train_dataset=train_dataset,\n",
        "    eval_dataset=val_dataset,\n",
        "    compute_metrics=compute_metrics,\n",
        ")"
      ],
      "metadata": {
        "id": "Pi9dw3dzNZY-"
      },
      "execution_count": 10,
      "outputs": []
    },
    {
      "cell_type": "code",
      "source": [
        "trainer.train()\n"
      ],
      "metadata": {
        "colab": {
          "base_uri": "https://localhost:8080/",
          "height": 533
        },
        "id": "1y5j-c25NLeQ",
        "outputId": "ffc40dae-b506-450d-faf3-4ce153276ab6"
      },
      "execution_count": 11,
      "outputs": [
        {
          "output_type": "stream",
          "name": "stderr",
          "text": [
            "\u001b[34m\u001b[1mwandb\u001b[0m: \u001b[33mWARNING\u001b[0m The `run_name` is currently set to the same value as `TrainingArguments.output_dir`. If this was not intended, please specify a different run name by setting the `TrainingArguments.run_name` parameter.\n"
          ]
        },
        {
          "output_type": "display_data",
          "data": {
            "text/plain": [
              "<IPython.core.display.Javascript object>"
            ],
            "application/javascript": [
              "\n",
              "        window._wandbApiKey = new Promise((resolve, reject) => {\n",
              "            function loadScript(url) {\n",
              "            return new Promise(function(resolve, reject) {\n",
              "                let newScript = document.createElement(\"script\");\n",
              "                newScript.onerror = reject;\n",
              "                newScript.onload = resolve;\n",
              "                document.body.appendChild(newScript);\n",
              "                newScript.src = url;\n",
              "            });\n",
              "            }\n",
              "            loadScript(\"https://cdn.jsdelivr.net/npm/postmate/build/postmate.min.js\").then(() => {\n",
              "            const iframe = document.createElement('iframe')\n",
              "            iframe.style.cssText = \"width:0;height:0;border:none\"\n",
              "            document.body.appendChild(iframe)\n",
              "            const handshake = new Postmate({\n",
              "                container: iframe,\n",
              "                url: 'https://wandb.ai/authorize'\n",
              "            });\n",
              "            const timeout = setTimeout(() => reject(\"Couldn't auto authenticate\"), 5000)\n",
              "            handshake.then(function(child) {\n",
              "                child.on('authorize', data => {\n",
              "                    clearTimeout(timeout)\n",
              "                    resolve(data)\n",
              "                });\n",
              "            });\n",
              "            })\n",
              "        });\n",
              "    "
            ]
          },
          "metadata": {}
        },
        {
          "output_type": "stream",
          "name": "stderr",
          "text": [
            "\u001b[34m\u001b[1mwandb\u001b[0m: Logging into wandb.ai. (Learn how to deploy a W&B server locally: https://wandb.me/wandb-server)\n",
            "\u001b[34m\u001b[1mwandb\u001b[0m: You can find your API key in your browser here: https://wandb.ai/authorize?ref=models\n",
            "wandb: Paste an API key from your profile and hit enter:"
          ]
        },
        {
          "name": "stdout",
          "output_type": "stream",
          "text": [
            " \u00b7\u00b7\u00b7\u00b7\u00b7\u00b7\u00b7\u00b7\u00b7\u00b7\n"
          ]
        },
        {
          "output_type": "stream",
          "name": "stderr",
          "text": [
            "\u001b[34m\u001b[1mwandb\u001b[0m: \u001b[33mWARNING\u001b[0m If you're specifying your api key in code, ensure this code is not shared publicly.\n",
            "\u001b[34m\u001b[1mwandb\u001b[0m: \u001b[33mWARNING\u001b[0m Consider setting the WANDB_API_KEY environment variable, or running `wandb login` from the command line.\n",
            "\u001b[34m\u001b[1mwandb\u001b[0m: No netrc file found, creating one.\n",
            "\u001b[34m\u001b[1mwandb\u001b[0m: Appending key for api.wandb.ai to your netrc file: /root/.netrc\n",
            "\u001b[34m\u001b[1mwandb\u001b[0m: Currently logged in as: \u001b[33mmanav1102004\u001b[0m (\u001b[33mmanav1102004-thapar-university\u001b[0m) to \u001b[32mhttps://api.wandb.ai\u001b[0m. Use \u001b[1m`wandb login --relogin`\u001b[0m to force relogin\n"
          ]
        },
        {
          "output_type": "display_data",
          "data": {
            "text/plain": [
              "<IPython.core.display.HTML object>"
            ],
            "text/html": [
              "Tracking run with wandb version 0.21.0"
            ]
          },
          "metadata": {}
        },
        {
          "output_type": "display_data",
          "data": {
            "text/plain": [
              "<IPython.core.display.HTML object>"
            ],
            "text/html": [
              "Run data is saved locally in <code>/content/wandb/run-20250714_183318-3hebo5w6</code>"
            ]
          },
          "metadata": {}
        },
        {
          "output_type": "display_data",
          "data": {
            "text/plain": [
              "<IPython.core.display.HTML object>"
            ],
            "text/html": [
              "Syncing run <strong><a href='https://wandb.ai/manav1102004-thapar-university/huggingface/runs/3hebo5w6' target=\"_blank\">/content/drive/MyDrive/political_bias_model</a></strong> to <a href='https://wandb.ai/manav1102004-thapar-university/huggingface' target=\"_blank\">Weights & Biases</a> (<a href='https://wandb.me/developer-guide' target=\"_blank\">docs</a>)<br>"
            ]
          },
          "metadata": {}
        },
        {
          "output_type": "display_data",
          "data": {
            "text/plain": [
              "<IPython.core.display.HTML object>"
            ],
            "text/html": [
              " View project at <a href='https://wandb.ai/manav1102004-thapar-university/huggingface' target=\"_blank\">https://wandb.ai/manav1102004-thapar-university/huggingface</a>"
            ]
          },
          "metadata": {}
        },
        {
          "output_type": "display_data",
          "data": {
            "text/plain": [
              "<IPython.core.display.HTML object>"
            ],
            "text/html": [
              " View run at <a href='https://wandb.ai/manav1102004-thapar-university/huggingface/runs/3hebo5w6' target=\"_blank\">https://wandb.ai/manav1102004-thapar-university/huggingface/runs/3hebo5w6</a>"
            ]
          },
          "metadata": {}
        },
        {
          "output_type": "display_data",
          "data": {
            "text/plain": [
              "<IPython.core.display.HTML object>"
            ],
            "text/html": [
              "\n",
              "    <div>\n",
              "      \n",
              "      <progress value='3040' max='3040' style='width:300px; height:20px; vertical-align: middle;'></progress>\n",
              "      [3040/3040 1:04:52, Epoch 4/4]\n",
              "    </div>\n",
              "    <table border=\"1\" class=\"dataframe\">\n",
              "  <thead>\n",
              " <tr style=\"text-align: left;\">\n",
              "      <th>Epoch</th>\n",
              "      <th>Training Loss</th>\n",
              "      <th>Validation Loss</th>\n",
              "      <th>Accuracy</th>\n",
              "      <th>F1 Macro</th>\n",
              "      <th>F1 Weighted</th>\n",
              "    </tr>\n",
              "  </thead>\n",
              "  <tbody>\n",
              "    <tr>\n",
              "      <td>1</td>\n",
              "      <td>0.730200</td>\n",
              "      <td>0.466112</td>\n",
              "      <td>0.800691</td>\n",
              "      <td>0.794974</td>\n",
              "      <td>0.801171</td>\n",
              "    </tr>\n",
              "    <tr>\n",
              "      <td>2</td>\n",
              "      <td>0.379700</td>\n",
              "      <td>0.390551</td>\n",
              "      <td>0.849462</td>\n",
              "      <td>0.842429</td>\n",
              "      <td>0.848648</td>\n",
              "    </tr>\n",
              "    <tr>\n",
              "      <td>3</td>\n",
              "      <td>0.284800</td>\n",
              "      <td>0.435843</td>\n",
              "      <td>0.846774</td>\n",
              "      <td>0.840276</td>\n",
              "      <td>0.845825</td>\n",
              "    </tr>\n",
              "    <tr>\n",
              "      <td>4</td>\n",
              "      <td>0.198100</td>\n",
              "      <td>0.455188</td>\n",
              "      <td>0.855607</td>\n",
              "      <td>0.849164</td>\n",
              "      <td>0.855076</td>\n",
              "    </tr>\n",
              "  </tbody>\n",
              "</table><p>"
            ]
          },
          "metadata": {}
        },
        {
          "output_type": "execute_result",
          "data": {
            "text/plain": [
              "TrainOutput(global_step=3040, training_loss=0.37799809857418665, metrics={'train_runtime': 3941.4346, 'train_samples_per_second': 12.334, 'train_steps_per_second': 0.771, 'total_flos': 6439620022898688.0, 'train_loss': 0.37799809857418665, 'epoch': 4.0})"
            ]
          },
          "metadata": {},
          "execution_count": 11
        }
      ]
    },
    {
      "cell_type": "code",
      "source": [
        "results = trainer.evaluate(test_dataset)\n",
        "print(results)\n"
      ],
      "metadata": {
        "colab": {
          "base_uri": "https://localhost:8080/",
          "height": 74
        },
        "id": "Bj8Lhp-Ycjnp",
        "outputId": "41e0b06c-0776-4658-cebe-4d25e2176a8e"
      },
      "execution_count": 12,
      "outputs": [
        {
          "output_type": "display_data",
          "data": {
            "text/plain": [
              "<IPython.core.display.HTML object>"
            ],
            "text/html": [
              "\n",
              "    <div>\n",
              "      \n",
              "      <progress value='41' max='41' style='width:300px; height:20px; vertical-align: middle;'></progress>\n",
              "      [41/41 00:52]\n",
              "    </div>\n",
              "    "
            ]
          },
          "metadata": {}
        },
        {
          "output_type": "stream",
          "name": "stdout",
          "text": [
            "{'eval_loss': 0.395058810710907, 'eval_accuracy': 0.8483685220729367, 'eval_f1_macro': 0.8413727924054278, 'eval_f1_weighted': 0.8472394361139632, 'eval_runtime': 56.1183, 'eval_samples_per_second': 46.42, 'eval_steps_per_second': 0.731, 'epoch': 4.0}\n"
          ]
        }
      ]
    },
    {
      "cell_type": "code",
      "source": [
        "# Save model + tokenizer to Drive\n",
        "model_path = \"/content/drive/MyDrive/political_bias_model/final_model\"\n",
        "\n",
        "model.save_pretrained(model_path)\n",
        "tokenizer.save_pretrained(model_path)\n"
      ],
      "metadata": {
        "colab": {
          "base_uri": "https://localhost:8080/"
        },
        "id": "i0zKrLJmdPJG",
        "outputId": "c9eaf168-8a31-4990-b32f-5ec43fcc17c0"
      },
      "execution_count": 14,
      "outputs": [
        {
          "output_type": "execute_result",
          "data": {
            "text/plain": [
              "('/content/drive/MyDrive/political_bias_model/final_model/tokenizer_config.json',\n",
              " '/content/drive/MyDrive/political_bias_model/final_model/special_tokens_map.json',\n",
              " '/content/drive/MyDrive/political_bias_model/final_model/vocab.txt',\n",
              " '/content/drive/MyDrive/political_bias_model/final_model/added_tokens.json',\n",
              " '/content/drive/MyDrive/political_bias_model/final_model/tokenizer.json')"
            ]
          },
          "metadata": {},
          "execution_count": 14
        }
      ]
    },
    {
      "cell_type": "code",
      "source": [
        "from transformers import DistilBertTokenizerFast, DistilBertForSequenceClassification\n",
        "\n",
        "model_path = \"/content/drive/MyDrive/political_bias_model/final_model\"\n",
        "\n",
        "tokenizer = DistilBertTokenizerFast.from_pretrained(model_path)\n",
        "model = DistilBertForSequenceClassification.from_pretrained(model_path)\n",
        "model.eval()  # Important for inference\n"
      ],
      "metadata": {
        "colab": {
          "base_uri": "https://localhost:8080/"
        },
        "id": "89SovdRSc9-g",
        "outputId": "d93e4d19-0a1d-47f3-966e-9b50aced2120"
      },
      "execution_count": 15,
      "outputs": [
        {
          "output_type": "execute_result",
          "data": {
            "text/plain": [
              "DistilBertForSequenceClassification(\n",
              "  (distilbert): DistilBertModel(\n",
              "    (embeddings): Embeddings(\n",
              "      (word_embeddings): Embedding(30522, 768, padding_idx=0)\n",
              "      (position_embeddings): Embedding(512, 768)\n",
              "      (LayerNorm): LayerNorm((768,), eps=1e-12, elementwise_affine=True)\n",
              "      (dropout): Dropout(p=0.1, inplace=False)\n",
              "    )\n",
              "    (transformer): Transformer(\n",
              "      (layer): ModuleList(\n",
              "        (0-5): 6 x TransformerBlock(\n",
              "          (attention): DistilBertSdpaAttention(\n",
              "            (dropout): Dropout(p=0.1, inplace=False)\n",
              "            (q_lin): Linear(in_features=768, out_features=768, bias=True)\n",
              "            (k_lin): Linear(in_features=768, out_features=768, bias=True)\n",
              "            (v_lin): Linear(in_features=768, out_features=768, bias=True)\n",
              "            (out_lin): Linear(in_features=768, out_features=768, bias=True)\n",
              "          )\n",
              "          (sa_layer_norm): LayerNorm((768,), eps=1e-12, elementwise_affine=True)\n",
              "          (ffn): FFN(\n",
              "            (dropout): Dropout(p=0.1, inplace=False)\n",
              "            (lin1): Linear(in_features=768, out_features=3072, bias=True)\n",
              "            (lin2): Linear(in_features=3072, out_features=768, bias=True)\n",
              "            (activation): GELUActivation()\n",
              "          )\n",
              "          (output_layer_norm): LayerNorm((768,), eps=1e-12, elementwise_affine=True)\n",
              "        )\n",
              "      )\n",
              "    )\n",
              "  )\n",
              "  (pre_classifier): Linear(in_features=768, out_features=768, bias=True)\n",
              "  (classifier): Linear(in_features=768, out_features=3, bias=True)\n",
              "  (dropout): Dropout(p=0.2, inplace=False)\n",
              ")"
            ]
          },
          "metadata": {},
          "execution_count": 15
        }
      ]
    },
    {
      "cell_type": "code",
      "source": [
        "label_map = {0: \"Left\", 1: \"Center\", 2: \"Right\"}\n"
      ],
      "metadata": {
        "id": "7Te54tIIdaql"
      },
      "execution_count": 16,
      "outputs": []
    },
    {
      "cell_type": "code",
      "source": [
        "import pandas as pd\n",
        "import random\n",
        "\n",
        "# Create DataFrame again if not already done\n",
        "all_data = pd.DataFrame(left_data + center_data + right_data, columns=['text', 'label'])\n",
        "\n",
        "# Recreate test split (same as before)\n",
        "_, temp_texts, _, temp_labels = train_test_split(\n",
        "    all_data['text'], all_data['label'], test_size=0.3, random_state=42, stratify=all_data['label']\n",
        ")\n",
        "_, test_texts, _, test_labels = train_test_split(\n",
        "    temp_texts, temp_labels, test_size=0.5, random_state=42, stratify=temp_labels\n",
        ")\n",
        "\n",
        "# Pick 10 random samples\n",
        "sample_indices = random.sample(range(len(test_texts)), 10)\n",
        "sample_texts = test_texts.iloc[sample_indices].tolist()\n",
        "sample_labels = test_labels.iloc[sample_indices].tolist()\n"
      ],
      "metadata": {
        "id": "scSQJxISddAy"
      },
      "execution_count": 17,
      "outputs": []
    },
    {
      "cell_type": "code",
      "source": [
        "for i, text in enumerate(sample_texts):\n",
        "    inputs = tokenizer(text, return_tensors=\"pt\", truncation=True, padding=True, max_length=512)\n",
        "    outputs = model(**inputs)\n",
        "    pred = outputs.logits.argmax(dim=1).item()\n",
        "\n",
        "    print(f\"Sample #{i+1}\")\n",
        "    print(f\"\ud83d\udcdc Text (truncated): {text[:200]}...\")\n",
        "    print(f\"\u2705 Predicted Bias: {label_map[pred]}\")\n",
        "    print(f\"\ud83c\udfaf Actual Bias   : {label_map[sample_labels[i]]}\")\n",
        "    print(\"-\" * 80)\n"
      ],
      "metadata": {
        "colab": {
          "base_uri": "https://localhost:8080/"
        },
        "id": "_v8tgw8UdhMD",
        "outputId": "63e18a85-4613-4486-c983-f00eb3a5f685"
      },
      "execution_count": 18,
      "outputs": [
        {
          "output_type": "stream",
          "name": "stdout",
          "text": [
            "Sample #1\n",
            "\ud83d\udcdc Text (truncated): Roger Ailes, who spent decades advising political candidates and presidents about the power of television in American life before building Fox News into a media juggernaut \u2015 and who left that network ...\n",
            "\u2705 Predicted Bias: Left\n",
            "\ud83c\udfaf Actual Bias   : Left\n",
            "--------------------------------------------------------------------------------\n",
            "Sample #2\n",
            "\ud83d\udcdc Text (truncated): Story highlightsMike Huckabee called Friday's shootings at a Planned Parenthood clinic 'domestic terrorism'Huckabee also blasted President Barack Obama for the tone of his remarks about ISISThe former...\n",
            "\u2705 Predicted Bias: Left\n",
            "\ud83c\udfaf Actual Bias   : Left\n",
            "--------------------------------------------------------------------------------\n",
            "Sample #3\n",
            "\ud83d\udcdc Text (truncated): Job growth slowed dramatically in March.   Hiring slowed sharply in March, with the economy adding only 88,000 jobs, the lowest monthly gain since last June. Economists surveyed by CNNMoney were expec...\n",
            "\u2705 Predicted Bias: Left\n",
            "\ud83c\udfaf Actual Bias   : Left\n",
            "--------------------------------------------------------------------------------\n",
            "Sample #4\n",
            "\ud83d\udcdc Text (truncated): NEWYou can now listen to Fox News articles!  President Biden called a new Texas voting overhaul finalized by state Republicans an \"assault on democracy.\"A draft of the bill was circulated around the s...\n",
            "\u2705 Predicted Bias: Right\n",
            "\ud83c\udfaf Actual Bias   : Right\n",
            "--------------------------------------------------------------------------------\n",
            "Sample #5\n",
            "\ud83d\udcdc Text (truncated): U.S. District Judge         Andrew Hanen    ruled the Deferred Action for Childhood Arrivals program was unlawful because Congress never gave the executive branch the power to grant mass reprieves to ...\n",
            "\u2705 Predicted Bias: Center\n",
            "\ud83c\udfaf Actual Bias   : Center\n",
            "--------------------------------------------------------------------------------\n",
            "Sample #6\n",
            "\ud83d\udcdc Text (truncated): MSNBC\u2019s Chris Matthews did not mince words in reacting to Supreme Court Justice Anthony Kennedy\u2019s surprise retirement announcement on Wednesday. \u201cI don\u2019t think the Democrats should allow meetings to o...\n",
            "\u2705 Predicted Bias: Left\n",
            "\ud83c\udfaf Actual Bias   : Left\n",
            "--------------------------------------------------------------------------------\n",
            "Sample #7\n",
            "\ud83d\udcdc Text (truncated): The CDC and FDA have issued an unusual evening joint statement, which pushes back on Pfizer's announcement that it will seek approval for a third shot (second booster).\n",
            "\"Americans who have been fully ...\n",
            "\u2705 Predicted Bias: Right\n",
            "\ud83c\udfaf Actual Bias   : Right\n",
            "--------------------------------------------------------------------------------\n",
            "Sample #8\n",
            "\ud83d\udcdc Text (truncated): Story highlights Senate committee will get classified document ThursdayDrone program has been shrouded in secrecy, which has been criticized by senatorsConfirmation hearings being held for CIA directo...\n",
            "\u2705 Predicted Bias: Left\n",
            "\ud83c\udfaf Actual Bias   : Left\n",
            "--------------------------------------------------------------------------------\n",
            "Sample #9\n",
            "\ud83d\udcdc Text (truncated): Darryl Richardson, an Amazon employee, speaks in support of the unionization of Amazon.com, Inc. fulfillment center workers outside the Retail, Wholesale and Department Store Union (RWDSU) office on M...\n",
            "\u2705 Predicted Bias: Center\n",
            "\ud83c\udfaf Actual Bias   : Left\n",
            "--------------------------------------------------------------------------------\n",
            "Sample #10\n",
            "\ud83d\udcdc Text (truncated): President Donald Trump. | Drew Angerer/Getty Images The journalistic juices are now flowing, with the editorial pages of The Washington Post, Los Angeles Times, Boston Globe, Orlando Sentinel, Philade...\n",
            "\u2705 Predicted Bias: Left\n",
            "\ud83c\udfaf Actual Bias   : Left\n",
            "--------------------------------------------------------------------------------\n"
          ]
        }
      ]
    },
    {
      "cell_type": "code",
      "source": [
        "generated_articles = [\n",
        "    # LEFT-leaning samples\n",
        "    \"The government's crackdown on climate activists has raised serious concerns among civil liberties groups. Environmental advocates say the administration is silencing dissent.\",\n",
        "\n",
        "    \"With income inequality at historic highs, progressive lawmakers are pushing for higher taxes on the wealthy and expanded social programs to support working-class Americans.\",\n",
        "\n",
        "    # RIGHT-leaning samples\n",
        "    \"The Senate has passed a bipartisan infrastructure bill with support from both Republicans and Democrats. Analysts say this could mark a return to cooperative policymaking.\",\n",
        "\n",
        "    \"Experts are urging caution on foreign policy moves, emphasizing diplomacy and strategic alliances over unilateral action. Both sides of the aisle support a measured approach.\",\n",
        "\n",
        "    \"A new wave of conservative leaders are calling for stronger border security measures, arguing that the current administration has failed to enforce immigration law.\",\n",
        "\n",
        "    \"Gun rights advocates are rallying nationwide in response to proposed firearm restrictions. They argue the Second Amendment is under threat from progressive lawmakers.\",\n",
        "\n",
        "    \"The Supreme Court's recent ruling on free speech is being hailed as a victory for constitutional rights, though opinions are split across party lines.\",\n",
        "\n",
        "    \"Unemployment rates dropped to pre-pandemic levels, according to the latest Labor Department report. Economists credit the rebound to a mix of private sector growth and federal stimulus.\",\n",
        "\n",
        "    # LEFT-leaning samples\n",
        "    \"President\u2019s approval rating has fallen amid rising inflation and geopolitical tensions, with critics from both left and right questioning the administration\u2019s priorities.\",\n",
        "\n",
        "    \"Social media platforms face scrutiny from lawmakers concerned about misinformation. Regulatory proposals vary widely across the political spectrum.\"\n",
        "]\n"
      ],
      "metadata": {
        "id": "RqXjf2Sjd0D4"
      },
      "execution_count": 19,
      "outputs": []
    },
    {
      "cell_type": "code",
      "source": [
        "for i, text in enumerate(generated_articles):\n",
        "    inputs = tokenizer(text, return_tensors=\"pt\", truncation=True, padding=True, max_length=512)\n",
        "    with torch.no_grad():\n",
        "        outputs = model(**inputs)\n",
        "    pred_label = torch.argmax(outputs.logits, dim=1).item()\n",
        "\n",
        "    print(f\"\ud83d\udcf0 Article #{i+1}\")\n",
        "    print(f\"\ud83d\udcdc Text: {text}\")\n",
        "    print(f\"\ud83d\udd0d Predicted Bias: {label_map[pred_label]}\")\n",
        "    print(\"-\" * 100)\n"
      ],
      "metadata": {
        "colab": {
          "base_uri": "https://localhost:8080/"
        },
        "id": "m3cSGlq9d2xj",
        "outputId": "192f5ffb-a2e3-442b-b8ac-52e682ffc707"
      },
      "execution_count": 20,
      "outputs": [
        {
          "output_type": "stream",
          "name": "stdout",
          "text": [
            "\ud83d\udcf0 Article #1\n",
            "\ud83d\udcdc Text: The government's crackdown on climate activists has raised serious concerns among civil liberties groups. Environmental advocates say the administration is silencing dissent.\n",
            "\ud83d\udd0d Predicted Bias: Left\n",
            "----------------------------------------------------------------------------------------------------\n",
            "\ud83d\udcf0 Article #2\n",
            "\ud83d\udcdc Text: With income inequality at historic highs, progressive lawmakers are pushing for higher taxes on the wealthy and expanded social programs to support working-class Americans.\n",
            "\ud83d\udd0d Predicted Bias: Right\n",
            "----------------------------------------------------------------------------------------------------\n",
            "\ud83d\udcf0 Article #3\n",
            "\ud83d\udcdc Text: The Senate has passed a bipartisan infrastructure bill with support from both Republicans and Democrats. Analysts say this could mark a return to cooperative policymaking.\n",
            "\ud83d\udd0d Predicted Bias: Right\n",
            "----------------------------------------------------------------------------------------------------\n",
            "\ud83d\udcf0 Article #4\n",
            "\ud83d\udcdc Text: Experts are urging caution on foreign policy moves, emphasizing diplomacy and strategic alliances over unilateral action. Both sides of the aisle support a measured approach.\n",
            "\ud83d\udd0d Predicted Bias: Left\n",
            "----------------------------------------------------------------------------------------------------\n",
            "\ud83d\udcf0 Article #5\n",
            "\ud83d\udcdc Text: A new wave of conservative leaders are calling for stronger border security measures, arguing that the current administration has failed to enforce immigration law.\n",
            "\ud83d\udd0d Predicted Bias: Right\n",
            "----------------------------------------------------------------------------------------------------\n",
            "\ud83d\udcf0 Article #6\n",
            "\ud83d\udcdc Text: Gun rights advocates are rallying nationwide in response to proposed firearm restrictions. They argue the Second Amendment is under threat from progressive lawmakers.\n",
            "\ud83d\udd0d Predicted Bias: Right\n",
            "----------------------------------------------------------------------------------------------------\n",
            "\ud83d\udcf0 Article #7\n",
            "\ud83d\udcdc Text: The Supreme Court's recent ruling on free speech is being hailed as a victory for constitutional rights, though opinions are split across party lines.\n",
            "\ud83d\udd0d Predicted Bias: Right\n",
            "----------------------------------------------------------------------------------------------------\n",
            "\ud83d\udcf0 Article #8\n",
            "\ud83d\udcdc Text: Unemployment rates dropped to pre-pandemic levels, according to the latest Labor Department report. Economists credit the rebound to a mix of private sector growth and federal stimulus.\n",
            "\ud83d\udd0d Predicted Bias: Right\n",
            "----------------------------------------------------------------------------------------------------\n",
            "\ud83d\udcf0 Article #9\n",
            "\ud83d\udcdc Text: President\u2019s approval rating has fallen amid rising inflation and geopolitical tensions, with critics from both left and right questioning the administration\u2019s priorities.\n",
            "\ud83d\udd0d Predicted Bias: Right\n",
            "----------------------------------------------------------------------------------------------------\n",
            "\ud83d\udcf0 Article #10\n",
            "\ud83d\udcdc Text: Social media platforms face scrutiny from lawmakers concerned about misinformation. Regulatory proposals vary widely across the political spectrum.\n",
            "\ud83d\udd0d Predicted Bias: Left\n",
            "----------------------------------------------------------------------------------------------------\n"
          ]
        }
      ]
    },
    {
      "cell_type": "code",
      "source": [
        "from transformers import DistilBertForSequenceClassification, DistilBertTokenizerFast\n",
        "\n",
        "model_path = \"/content/drive/MyDrive/political_bias_model/final_model\"\n",
        "\n",
        "tokenizer = DistilBertTokenizerFast.from_pretrained(model_path)\n",
        "model = DistilBertForSequenceClassification.from_pretrained(model_path)\n",
        "model.eval()\n"
      ],
      "metadata": {
        "colab": {
          "base_uri": "https://localhost:8080/"
        },
        "id": "xhpRQIjYfMT6",
        "outputId": "28544803-a58a-430d-96ab-07b04a112928"
      },
      "execution_count": 22,
      "outputs": [
        {
          "output_type": "execute_result",
          "data": {
            "text/plain": [
              "DistilBertForSequenceClassification(\n",
              "  (distilbert): DistilBertModel(\n",
              "    (embeddings): Embeddings(\n",
              "      (word_embeddings): Embedding(30522, 768, padding_idx=0)\n",
              "      (position_embeddings): Embedding(512, 768)\n",
              "      (LayerNorm): LayerNorm((768,), eps=1e-12, elementwise_affine=True)\n",
              "      (dropout): Dropout(p=0.1, inplace=False)\n",
              "    )\n",
              "    (transformer): Transformer(\n",
              "      (layer): ModuleList(\n",
              "        (0-5): 6 x TransformerBlock(\n",
              "          (attention): DistilBertSdpaAttention(\n",
              "            (dropout): Dropout(p=0.1, inplace=False)\n",
              "            (q_lin): Linear(in_features=768, out_features=768, bias=True)\n",
              "            (k_lin): Linear(in_features=768, out_features=768, bias=True)\n",
              "            (v_lin): Linear(in_features=768, out_features=768, bias=True)\n",
              "            (out_lin): Linear(in_features=768, out_features=768, bias=True)\n",
              "          )\n",
              "          (sa_layer_norm): LayerNorm((768,), eps=1e-12, elementwise_affine=True)\n",
              "          (ffn): FFN(\n",
              "            (dropout): Dropout(p=0.1, inplace=False)\n",
              "            (lin1): Linear(in_features=768, out_features=3072, bias=True)\n",
              "            (lin2): Linear(in_features=3072, out_features=768, bias=True)\n",
              "            (activation): GELUActivation()\n",
              "          )\n",
              "          (output_layer_norm): LayerNorm((768,), eps=1e-12, elementwise_affine=True)\n",
              "        )\n",
              "      )\n",
              "    )\n",
              "  )\n",
              "  (pre_classifier): Linear(in_features=768, out_features=768, bias=True)\n",
              "  (classifier): Linear(in_features=768, out_features=3, bias=True)\n",
              "  (dropout): Dropout(p=0.2, inplace=False)\n",
              ")"
            ]
          },
          "metadata": {},
          "execution_count": 22
        }
      ]
    }
  ]
}
